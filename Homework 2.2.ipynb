{
 "cells": [
  {
   "cell_type": "markdown",
   "id": "3c87afad",
   "metadata": {},
   "source": [
    "Проведіть аналіз файлу 2017_jun_final.csv. Файл містить результати опитування розробників у червні 2017 року.\n",
    "\n",
    "Необхідно виконати:\n",
    "\n",
    "- Прочитайте файл 2017_jun_final.csv за допомогою методу read_csv\n",
    "- Прочитайте отриману таблицю, використовуючи метод head\n",
    "- Визначте розмір таблиці за допомогою методу shape\n",
    "- Визначте типи всіх стовпців за допомогою dataframe.dtypes\n",
    "- Порахуйте, яка частка пропусків міститься в кожній колонці (використовуйте методи isnull та sum)\n",
    "- Видаліть усі стовпці з пропусками, крім стовпця \"Мова програмування\"\n",
    "- Знову порахуйте, яка частка пропусків міститься в кожній колонці і переконайтеся, що залишився тільки стовпець \"Мова.програмування\"\n",
    "- Видаліть усі рядки у вихідній таблиці за допомогою методу dropna\n",
    "- Визначте новий розмір таблиці за допомогою методу shape\n",
    "- Створіть нову таблицю python_data, в якій будуть тільки рядки зі спеціалістами, які вказали мову програмування Python\n",
    "- Визначте розмір таблиці python_data за допомогою методу shape\n",
    "- Використовуючи метод groupby, виконайте групування за стовпчиком \"Посада\"\n",
    "- Створіть новий DataFrame, де для згрупованих даних за стовпчиком \"Посада\", виконайте агрегацію даних за допомогою методу agg і знайдіть мінімальне та максимальне значення у стовпчику \"Зарплата.в.місяць\"\n",
    "- Створіть функцію fill_avg_salary, яка повертатиме середнє значення заробітної плати на місяць. Використовуйте її для методу apply та створіть новий стовпчик \"avg\"\n",
    "- Створіть описову статистику за допомогою методу describe для нового стовпчика.\n",
    "- Збережіть отриману таблицю в CSV файл"
   ]
  },
  {
   "cell_type": "code",
   "execution_count": 20,
   "id": "332d2f17",
   "metadata": {},
   "outputs": [],
   "source": [
    "import pandas as pd\n",
    "\n",
    "data = \"2017_jun_final.csv\""
   ]
  },
  {
   "cell_type": "code",
   "execution_count": 22,
   "id": "1a0e339a",
   "metadata": {},
   "outputs": [],
   "source": [
    "# read data with read_csv\n",
    "survey_data = pd.read_csv(data)"
   ]
  },
  {
   "cell_type": "code",
   "execution_count": 23,
   "id": "ccca1666",
   "metadata": {},
   "outputs": [
    {
     "data": {
      "text/plain": [
       "<bound method NDFrame.head of          N                 Должность Язык.программирования Специализация  \\\n",
       "0        1        Junior QA engineer                   NaN     Manual QA   \n",
       "1        2        Junior QA engineer                   NaN     Manual QA   \n",
       "2        3         Software Engineer               C#/.NET           NaN   \n",
       "3        4         Software Engineer            JavaScript           NaN   \n",
       "4        5  Senior Software Engineer            JavaScript           NaN   \n",
       "...    ...                       ...                   ...           ...   \n",
       "8699  8700               QA engineer                   NaN     Manual QA   \n",
       "8700  8701                 Marketing                   NaN           NaN   \n",
       "8701  8702  Junior Software Engineer            Ruby/Rails           NaN   \n",
       "8702  8703                 Team lead                   NaN           NaN   \n",
       "8703  8704  Senior Software Engineer                  Java           NaN   \n",
       "\n",
       "     Общий.опыт.работы Опыт.работы.на.текущем.месте  Зарплата.в.месяц  \\\n",
       "0                  0.5                          0.5               400   \n",
       "1     меньше 3 месяцев             меньше 3 месяцев               430   \n",
       "2                    4                            1              2500   \n",
       "3                    5                            4              2000   \n",
       "4       10 и более лет                          0.5              4500   \n",
       "...                ...                          ...               ...   \n",
       "8699                 1             меньше 3 месяцев               700   \n",
       "8700               0.5                          0.5               400   \n",
       "8701                 1                          0.5               800   \n",
       "8702                 6                            4              2600   \n",
       "8703                 7                            2              5000   \n",
       "\n",
       "      Изменение.зарплаты.за.12.месяцев    Город     Размер.компании  ...  \\\n",
       "0                                    0  Харьков       до 10 человек  ...   \n",
       "1                                  130  Харьков  свыше 1000 человек  ...   \n",
       "2                                  800     Киев     до 1000 человек  ...   \n",
       "3                                  400   Одесса      до 200 человек  ...   \n",
       "4                                  500   Другой       до 10 человек  ...   \n",
       "...                                ...      ...                 ...  ...   \n",
       "8699                               700   Одесса       до 50 человек  ...   \n",
       "8700                               120     Киев       до 50 человек  ...   \n",
       "8701                               500    Львов       до 10 человек  ...   \n",
       "8702                                 0    Днепр  свыше 1000 человек  ...   \n",
       "8703                               800   Одесса     до 1000 человек  ...   \n",
       "\n",
       "     Еще.студент Уровень.английского                    Предметная.область  \\\n",
       "0           True       ниже среднего                         iOS,eCommerce   \n",
       "1           True       выше среднего                        Веб-разработка   \n",
       "2          False             средний  Веб-разработка,Корпоративные системы   \n",
       "3          False       ниже среднего   Desktop Applications,Веб-разработка   \n",
       "4          False             средний   Desktop Applications,Веб-разработка   \n",
       "...          ...                 ...                                   ...   \n",
       "8699       False             средний          Android,Desktop Applications   \n",
       "8700       False       ниже среднего                             eCommerce   \n",
       "8701       False       выше среднего  Веб-разработка,Корпоративные системы   \n",
       "8702       False         продвинутый                       Финансы и банки   \n",
       "8703       False       выше среднего                        Веб-разработка   \n",
       "\n",
       "          Дата.заполнения                                         User.Agent  \\\n",
       "0     12/06/2017 12:38:08  Mozilla/5.0 (Windows NT 10.0; Win64; x64) Appl...   \n",
       "1     12/06/2017 12:42:51  Mozilla/5.0 (iPad; CPU OS 10_2_1 like Mac OS X...   \n",
       "2     12/06/2017 13:02:47  Mozilla/5.0 (Windows NT 10.0; Win64; x64) Appl...   \n",
       "3     12/06/2017 13:03:01  Mozilla/5.0 (Windows NT 6.1; Win64; x64) Apple...   \n",
       "4     12/06/2017 13:03:47  Mozilla/5.0 (iPhone; CPU iPhone OS 10_3_2 like...   \n",
       "...                   ...                                                ...   \n",
       "8699  12/07/2017 15:45:24  Mozilla/5.0 (X11; Ubuntu; Linux x86_64; rv:54....   \n",
       "8700  12/07/2017 17:00:06  Mozilla/5.0 (Windows NT 10.0; Win64; x64) Appl...   \n",
       "8701  12/07/2017 17:32:26  Mozilla/5.0 (X11; Linux x86_64) AppleWebKit/53...   \n",
       "8702  12/07/2017 18:14:59  Mozilla/5.0 (Windows NT 6.1) AppleWebKit/537.3...   \n",
       "8703  12/07/2017 21:28:57  Mozilla/5.0 (iPad; CPU OS 10_3_2 like Mac OS X...   \n",
       "\n",
       "       exp current_job_exp salary Валюта  cls  \n",
       "0      0.5             0.5    400    NaN   QA  \n",
       "1      0.0             0.0    430    NaN   QA  \n",
       "2      4.0             1.0   2500    NaN  DEV  \n",
       "3      5.0             4.0   2000    NaN  DEV  \n",
       "4     10.0             0.5   4500    NaN  DEV  \n",
       "...    ...             ...    ...    ...  ...  \n",
       "8699   1.0             0.0    700    NaN   QA  \n",
       "8700   0.5             0.5    400    NaN  NaN  \n",
       "8701   1.0             0.5    800    NaN  DEV  \n",
       "8702   6.0             4.0   2600    NaN   PM  \n",
       "8703   7.0             2.0   5000    NaN  DEV  \n",
       "\n",
       "[8704 rows x 25 columns]>"
      ]
     },
     "execution_count": 23,
     "metadata": {},
     "output_type": "execute_result"
    }
   ],
   "source": [
    "# read the head\n",
    "survey_data.head"
   ]
  },
  {
   "cell_type": "code",
   "execution_count": 24,
   "id": "bfabd86f",
   "metadata": {},
   "outputs": [
    {
     "data": {
      "text/plain": [
       "(8704, 25)"
      ]
     },
     "execution_count": 24,
     "metadata": {},
     "output_type": "execute_result"
    }
   ],
   "source": [
    "# determine the shape\n",
    "survey_data.shape"
   ]
  },
  {
   "cell_type": "code",
   "execution_count": 25,
   "id": "3a42f1a3",
   "metadata": {},
   "outputs": [
    {
     "data": {
      "text/plain": [
       "N                                     int64\n",
       "Должность                            object\n",
       "Язык.программирования                object\n",
       "Специализация                        object\n",
       "Общий.опыт.работы                    object\n",
       "Опыт.работы.на.текущем.месте         object\n",
       "Зарплата.в.месяц                      int64\n",
       "Изменение.зарплаты.за.12.месяцев      int64\n",
       "Город                                object\n",
       "Размер.компании                      object\n",
       "Тип.компании                         object\n",
       "Пол                                  object\n",
       "Возраст                               int64\n",
       "Образование                          object\n",
       "Университет                          object\n",
       "Еще.студент                            bool\n",
       "Уровень.английского                  object\n",
       "Предметная.область                   object\n",
       "Дата.заполнения                      object\n",
       "User.Agent                           object\n",
       "exp                                 float64\n",
       "current_job_exp                     float64\n",
       "salary                                int64\n",
       "Валюта                               object\n",
       "cls                                  object\n",
       "dtype: object"
      ]
     },
     "execution_count": 25,
     "metadata": {},
     "output_type": "execute_result"
    }
   ],
   "source": [
    "# determine dtypes\n",
    "survey_data.dtypes"
   ]
  },
  {
   "cell_type": "code",
   "execution_count": 27,
   "id": "5df84785",
   "metadata": {},
   "outputs": [
    {
     "data": {
      "text/plain": [
       "N                                      0\n",
       "Должность                              0\n",
       "Язык.программирования               3850\n",
       "Специализация                       7219\n",
       "Общий.опыт.работы                      0\n",
       "Опыт.работы.на.текущем.месте           0\n",
       "Зарплата.в.месяц                       0\n",
       "Изменение.зарплаты.за.12.месяцев       0\n",
       "Город                                  0\n",
       "Размер.компании                        0\n",
       "Тип.компании                           0\n",
       "Пол                                    0\n",
       "Возраст                                0\n",
       "Образование                            0\n",
       "Университет                          358\n",
       "Еще.студент                            0\n",
       "Уровень.английского                    0\n",
       "Предметная.область                   223\n",
       "Дата.заполнения                        0\n",
       "User.Agent                             0\n",
       "exp                                    0\n",
       "current_job_exp                        0\n",
       "salary                                 0\n",
       "Валюта                              8694\n",
       "cls                                 1574\n",
       "dtype: int64"
      ]
     },
     "execution_count": 27,
     "metadata": {},
     "output_type": "execute_result"
    }
   ],
   "source": [
    "# number of missing values\n",
    "survey_data.isnull().sum()"
   ]
  },
  {
   "cell_type": "code",
   "execution_count": 30,
   "id": "a496db63",
   "metadata": {},
   "outputs": [],
   "source": [
    "# delete the columns with missing values\n",
    "survey_data = survey_data.drop(['Специализация', 'Университет', 'Предметная.область', 'Валюта', 'cls'], axis=1).copy()"
   ]
  },
  {
   "cell_type": "code",
   "execution_count": 32,
   "id": "0ba84abd",
   "metadata": {},
   "outputs": [
    {
     "data": {
      "text/plain": [
       "N                                      0\n",
       "Должность                              0\n",
       "Язык.программирования               3850\n",
       "Общий.опыт.работы                      0\n",
       "Опыт.работы.на.текущем.месте           0\n",
       "Зарплата.в.месяц                       0\n",
       "Изменение.зарплаты.за.12.месяцев       0\n",
       "Город                                  0\n",
       "Размер.компании                        0\n",
       "Тип.компании                           0\n",
       "Пол                                    0\n",
       "Возраст                                0\n",
       "Образование                            0\n",
       "Еще.студент                            0\n",
       "Уровень.английского                    0\n",
       "Дата.заполнения                        0\n",
       "User.Agent                             0\n",
       "exp                                    0\n",
       "current_job_exp                        0\n",
       "salary                                 0\n",
       "dtype: int64"
      ]
     },
     "execution_count": 32,
     "metadata": {},
     "output_type": "execute_result"
    }
   ],
   "source": [
    "# check the missing values again, making sure that only the programming language is left\n",
    "survey_data.isnull().sum()"
   ]
  },
  {
   "cell_type": "code",
   "execution_count": 34,
   "id": "cab74157",
   "metadata": {},
   "outputs": [],
   "source": [
    "# drop missing values\n",
    "survey_data = survey_data.dropna().copy()"
   ]
  },
  {
   "cell_type": "code",
   "execution_count": 37,
   "id": "13f68d03",
   "metadata": {},
   "outputs": [
    {
     "data": {
      "text/plain": [
       "(4854, 20)"
      ]
     },
     "execution_count": 37,
     "metadata": {},
     "output_type": "execute_result"
    }
   ],
   "source": [
    "# check the shape of the dataframe\n",
    "survey_data.shape"
   ]
  },
  {
   "cell_type": "code",
   "execution_count": 50,
   "id": "b4adeca6",
   "metadata": {},
   "outputs": [],
   "source": [
    "# create a new dataframe with only python programmers\n",
    "python_data = survey_data.loc[survey_data['Язык.программирования'] == 'Python'].copy()"
   ]
  },
  {
   "cell_type": "code",
   "execution_count": 53,
   "id": "daa40440",
   "metadata": {},
   "outputs": [
    {
     "data": {
      "text/plain": [
       "(207, 20)"
      ]
     },
     "execution_count": 53,
     "metadata": {},
     "output_type": "execute_result"
    }
   ],
   "source": [
    "# determine the size of the dataframe\n",
    "python_data.shape"
   ]
  },
  {
   "cell_type": "code",
   "execution_count": 54,
   "id": "8b11dca0",
   "metadata": {},
   "outputs": [
    {
     "data": {
      "text/plain": [
       "<pandas.core.groupby.generic.DataFrameGroupBy object at 0x000002A75EFA6DC0>"
      ]
     },
     "execution_count": 54,
     "metadata": {},
     "output_type": "execute_result"
    }
   ],
   "source": [
    "# group by \"Посада\"\n",
    "python_data.groupby('Должность')"
   ]
  },
  {
   "cell_type": "code",
   "execution_count": 61,
   "id": "c8fd574e",
   "metadata": {},
   "outputs": [],
   "source": [
    "# aggregate the grouped data and find min and max salaries\n",
    "aggregated_salaries = python_data.groupby('Должность').agg({'salary': ['min', 'max']}).copy()"
   ]
  },
  {
   "cell_type": "code",
   "execution_count": 64,
   "id": "c96001ac",
   "metadata": {},
   "outputs": [],
   "source": [
    "# def fill_avg_salary that returns average salary per month and apply it to the dataframe to add a new column\n",
    "def fill_avg_salary(series):\n",
    "    return series.loc['salary'].mean()\n",
    "    \n",
    "aggregated_salaries['avg'] = aggregated_salaries.apply(fill_avg_salary, axis=1)\n"
   ]
  },
  {
   "cell_type": "code",
   "execution_count": 69,
   "id": "78d9d53e",
   "metadata": {},
   "outputs": [
    {
     "data": {
      "text/plain": [
       "count       5.000000\n",
       "mean     3337.500000\n",
       "std      1700.091909\n",
       "min       675.000000\n",
       "25%      2950.000000\n",
       "50%      3812.500000\n",
       "75%      4000.000000\n",
       "max      5250.000000\n",
       "Name: avg, dtype: float64"
      ]
     },
     "execution_count": 69,
     "metadata": {},
     "output_type": "execute_result"
    }
   ],
   "source": [
    "# create a descriptive statistics for an avg column\n",
    "aggregated_salaries['avg'].describe()"
   ]
  },
  {
   "cell_type": "code",
   "execution_count": 70,
   "id": "a5f842d9",
   "metadata": {},
   "outputs": [],
   "source": [
    "# create a new csv file\n",
    "aggregated_salaries.to_csv('aggregated_salaries.csv')"
   ]
  },
  {
   "cell_type": "code",
   "execution_count": null,
   "id": "1c71ce2a",
   "metadata": {},
   "outputs": [],
   "source": []
  }
 ],
 "metadata": {
  "kernelspec": {
   "display_name": "Python 3 (ipykernel)",
   "language": "python",
   "name": "python3"
  },
  "language_info": {
   "codemirror_mode": {
    "name": "ipython",
    "version": 3
   },
   "file_extension": ".py",
   "mimetype": "text/x-python",
   "name": "python",
   "nbconvert_exporter": "python",
   "pygments_lexer": "ipython3",
   "version": "3.9.7"
  }
 },
 "nbformat": 4,
 "nbformat_minor": 5
}
